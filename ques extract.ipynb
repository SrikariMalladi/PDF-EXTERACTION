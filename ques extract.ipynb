{
 "cells": [
  {
   "cell_type": "code",
   "execution_count": 2,
   "id": "c73fa933",
   "metadata": {},
   "outputs": [
    {
     "name": "stdout",
     "output_type": "stream",
     "text": [
      "\n",
      " All grouped questions saved to: output/grouped_questions.json\n"
     ]
    }
   ],
   "source": [
    "import os\n",
    "import json\n",
    "from PIL import Image\n",
    "from transformers import BlipProcessor, BlipForConditionalGeneration\n",
    "import torch\n",
    "\n",
    "# Load BLIP\n",
    "processor = BlipProcessor.from_pretrained(\"Salesforce/blip-vqa-base\")\n",
    "model = BlipForConditionalGeneration.from_pretrained(\"Salesforce/blip-vqa-base\")\n",
    "\n",
    "device = \"cuda\" if torch.cuda.is_available() else \"cpu\"\n",
    "model.to(device)\n",
    "\n",
    "# Paths\n",
    "input_folder = \"output\"\n",
    "output_json = \"output/grouped_questions.json\"\n",
    "\n",
    "# Get all image files sorted\n",
    "image_files = sorted([f for f in os.listdir(input_folder) if f.lower().endswith(('.png', '.jpg'))])\n",
    "\n",
    "# Group into chunks: [Q, Option1, Option2, Option3]\n",
    "grouped = [image_files[i:i + 4] for i in range(0, len(image_files), 4)]\n",
    "\n",
    "results = []\n",
    "\n",
    "for group in grouped:\n",
    "    if len(group) < 4:\n",
    "        continue  # skip incomplete groups\n",
    "\n",
    "    question_image = os.path.join(input_folder, group[0])\n",
    "    option_images = [os.path.join(input_folder, f) for f in group[1:]]\n",
    "\n",
    "    # Generate question with BLIP\n",
    "    image = Image.open(question_image).convert(\"RGB\")\n",
    "    prompt = \"What question does this image represent?\"\n",
    "    inputs = processor(image, prompt, return_tensors=\"pt\").to(device)\n",
    "    out = model.generate(**inputs)\n",
    "    generated_question = processor.decode(out[0], skip_special_tokens=True)\n",
    "\n",
    "    results.append({\n",
    "        \"question\": generated_question,\n",
    "        \"question_image\": question_image,\n",
    "        \"option_images\": option_images,\n",
    "        \"answer\": None  # Optional: You can fill this manually\n",
    "    })\n",
    "\n",
    "    print(f\" Generated question for {group[0]}: {generated_question}\")\n",
    "\n",
    "# Save final structured JSON\n",
    "with open(output_json, \"w\", encoding=\"utf-8\") as f:\n",
    "    json.dump(results, f, indent=2)\n",
    "\n",
    "print(f\"\\n All grouped questions saved to: {output_json}\")\n"
   ]
  },
  {
   "cell_type": "code",
   "execution_count": null,
   "id": "1149eb0b",
   "metadata": {},
   "outputs": [],
   "source": []
  }
 ],
 "metadata": {
  "kernelspec": {
   "display_name": "Python 3 (ipykernel)",
   "language": "python",
   "name": "python3"
  },
  "language_info": {
   "codemirror_mode": {
    "name": "ipython",
    "version": 3
   },
   "file_extension": ".py",
   "mimetype": "text/x-python",
   "name": "python",
   "nbconvert_exporter": "python",
   "pygments_lexer": "ipython3",
   "version": "3.10.9"
  }
 },
 "nbformat": 4,
 "nbformat_minor": 5
}
