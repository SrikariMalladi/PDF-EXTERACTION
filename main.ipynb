{
 "cells": [
  {
   "cell_type": "code",
   "execution_count": 6,
   "id": "99d633b0",
   "metadata": {},
   "outputs": [
    {
     "name": "stdout",
     "output_type": "stream",
     "text": [
      "Successfully opened: IMO class 1 Maths Olympiad Sample Paper 1 for the year 2024-25.pdf\n",
      " Extraction complete. JSON and images saved in: output\n"
     ]
    }
   ],
   "source": [
    "import fitz  # PyMuPDF\n",
    "import os\n",
    "import json\n",
    "\n",
    "# Your already working path\n",
    "pdf_path = \"IMO class 1 Maths Olympiad Sample Paper 1 for the year 2024-25.pdf\"\n",
    "output_dir = \"output\"\n",
    "os.makedirs(output_dir, exist_ok=True)\n",
    "\n",
    "try:\n",
    "    doc = fitz.open(pdf_path)\n",
    "    print(f\"Successfully opened: {pdf_path}\")\n",
    "except Exception as e:\n",
    "    print(\"Error while opening PDF:\", e)\n",
    "    exit()\n",
    "\n",
    "extracted_data = []\n",
    "\n",
    "# Loop through each page\n",
    "for page_num in range(len(doc)):\n",
    "    page = doc.load_page(page_num)\n",
    "    text = page.get_text().strip()\n",
    "\n",
    "    # Extract images\n",
    "    images = []\n",
    "    page_folder = os.path.join(output_dir, f\"page_{page_num + 1}\")\n",
    "    os.makedirs(page_folder, exist_ok=True)\n",
    "\n",
    "    for img_index, img in enumerate(page.get_images(full=True)):\n",
    "        xref = img[0]\n",
    "        base_image = doc.extract_image(xref)\n",
    "        image_bytes = base_image[\"image\"]\n",
    "        image_ext = base_image[\"ext\"]\n",
    "        image_filename = f\"image_{img_index + 1}.{image_ext}\"\n",
    "        image_path = os.path.join(page_folder, image_filename)\n",
    "\n",
    "        with open(image_path, \"wb\") as img_file:\n",
    "            img_file.write(image_bytes)\n",
    "\n",
    "        images.append(image_path)\n",
    "\n",
    "    # Add to structured output\n",
    "    extracted_data.append({\n",
    "        \"page\": page_num + 1,\n",
    "        \"text\": text,\n",
    "        \"images\": images\n",
    "    })\n",
    "\n",
    "# Save JSON\n",
    "json_path = os.path.join(output_dir, \"extracted_content.json\")\n",
    "with open(json_path, \"w\", encoding=\"utf-8\") as f:\n",
    "    json.dump(extracted_data, f, indent=2, ensure_ascii=False)\n",
    "\n",
    "print(\" Extraction complete. JSON and images saved in:\", output_dir)\n"
   ]
  },
  {
   "cell_type": "markdown",
   "id": "7711732a",
   "metadata": {},
   "source": [
    "## Imports:\n",
    "\n",
    "##### fitz is from the PyMuPDF library (used to read/extract PDF content)\n",
    "\n",
    "#### os helps manage folders and file paths\n",
    "\n",
    "### json helps store output in a structured format\n",
    "\n",
    "## Setup paths:\n",
    "\n",
    "#### pdf_path: your PDF file name\n",
    "\n",
    "#### output_dir: folder where extracted content will be saved\n",
    "\n",
    "#### os.makedirs(..., exist_ok=True) ensures the folder exists (creates it if not)\n",
    "\n",
    "## Open the PDF safely:\n",
    "\n",
    "#### Tries to open the file\n",
    "\n",
    "#### If it fails (e.g. file not found or corrupted), prints error and exits\n",
    "\n",
    "## For each page:\n",
    "\n",
    "#### Loads the page\n",
    "\n",
    "#### Extracts all text and removes extra whitespace with .strip()\n",
    "\n",
    "#### Creates a subfolder for the current page like output/page_1/\n",
    "\n",
    "#### Finds all images on the current page\n",
    "\n",
    "#### Extracts each image using its internal reference (xref)\n",
    "\n",
    "#### Saves the image as image_1.png, image_2.jpeg, etc.\n",
    "\n",
    "#### Adds each image’s file path to a list for this page\n",
    "\n",
    "#### Adds a dictionary with:\n",
    "\n",
    "###Page number\n",
    "\n",
    "Text from that page\n",
    "\n",
    "List of extracted image paths"
   ]
  },
  {
   "cell_type": "code",
   "execution_count": 2,
   "id": "16df69ef",
   "metadata": {},
   "outputs": [
    {
     "name": "stdout",
     "output_type": "stream",
     "text": [
      "Requirement already satisfied: pymupdf in c:\\users\\srikari\\anaconda3\\anaconda\\lib\\site-packages (1.26.3)\n",
      "Note: you may need to restart the kernel to use updated packages.\n"
     ]
    }
   ],
   "source": [
    "pip install pymupdf"
   ]
  },
  {
   "cell_type": "code",
   "execution_count": 2,
   "id": "77182bf9",
   "metadata": {},
   "outputs": [
    {
     "name": "stdout",
     "output_type": "stream",
     "text": [
      "File found: IMO class 1 Maths Olympiad Sample Paper 1 for the year 2024-25.pdf\n",
      "Text extraction complete. Saved to extracted_text.txt\n"
     ]
    }
   ],
   "source": [
    "import fitz  # PyMuPDF\n",
    "import os\n",
    "\n",
    "# Step 1: File name\n",
    "pdf_path = \"IMO class 1 Maths Olympiad Sample Paper 1 for the year 2024-25.pdf\"\n",
    "output_file = \"extracted_text.txt\"\n",
    "\n",
    "# Step 2: Check if file exists\n",
    "if not os.path.exists(pdf_path):\n",
    "    raise FileNotFoundError(f\" File not found: {pdf_path}\")\n",
    "else:\n",
    "    print(f\"File found: {pdf_path}\")\n",
    "\n",
    "# Step 3: Open and extract\n",
    "doc = fitz.open(pdf_path)\n",
    "all_text = \"\"\n",
    "\n",
    "for page_num in range(len(doc)):\n",
    "    page = doc.load_page(page_num)\n",
    "    text = page.get_text()\n",
    "    all_text += f\"\\n\\n--- Page {page_num + 1} ---\\n\"\n",
    "    all_text += text.strip()\n",
    "\n",
    "# Step 4: Save to file\n",
    "with open(output_file, \"w\", encoding=\"utf-8\") as f:\n",
    "    f.write(all_text)\n",
    "\n",
    "print(f\"Text extraction complete. Saved to {output_file}\")\n"
   ]
  },
  {
   "cell_type": "code",
   "execution_count": 3,
   "id": "604860d0",
   "metadata": {},
   "outputs": [
    {
     "name": "stdout",
     "output_type": "stream",
     "text": [
      "Structured output saved to: output\\structured_output.json\n"
     ]
    }
   ],
   "source": [
    "import fitz  # PyMuPDF\n",
    "import os\n",
    "import json\n",
    "\n",
    "# Input PDF\n",
    "pdf_path = \"IMO class 1 Maths Olympiad Sample Paper 1 for the year 2024-25.pdf\"\n",
    "\n",
    "# Output folders\n",
    "output_dir = \"output\"\n",
    "os.makedirs(output_dir, exist_ok=True)\n",
    "\n",
    "# Open the PDF\n",
    "try:\n",
    "    doc = fitz.open(pdf_path)\n",
    "except Exception as e:\n",
    "    print(\"Error while opening PDF:\", e)\n",
    "    exit()\n",
    "\n",
    "# Store structured content\n",
    "structured_content = []\n",
    "\n",
    "# Loop through pages\n",
    "for page_num in range(len(doc)):\n",
    "    page = doc.load_page(page_num)\n",
    "    text = page.get_text().strip()\n",
    "\n",
    "    # Prepare image saving\n",
    "    page_folder = os.path.join(output_dir, f\"page_{page_num + 1}\")\n",
    "    os.makedirs(page_folder, exist_ok=True)\n",
    "    image_paths = []\n",
    "\n",
    "    # Extract all images\n",
    "    for img_index, img in enumerate(page.get_images(full=True)):\n",
    "        xref = img[0]\n",
    "        base_image = doc.extract_image(xref)\n",
    "        image_bytes = base_image[\"image\"]\n",
    "        image_ext = base_image[\"ext\"]\n",
    "        image_filename = f\"image_{img_index + 1}.{image_ext}\"\n",
    "        image_path = os.path.join(page_folder, image_filename)\n",
    "\n",
    "        with open(image_path, \"wb\") as img_file:\n",
    "            img_file.write(image_bytes)\n",
    "\n",
    "        image_paths.append(image_path)\n",
    "\n",
    "    # Append to structured list\n",
    "    structured_content.append({\n",
    "        \"page\": page_num + 1,\n",
    "        \"text\": text,\n",
    "        \"images\": image_paths\n",
    "    })\n",
    "\n",
    "# Write to JSON file\n",
    "json_output_path = os.path.join(output_dir, \"structured_output.json\")\n",
    "with open(json_output_path, \"w\", encoding=\"utf-8\") as json_file:\n",
    "    json.dump(structured_content, json_file, indent=2, ensure_ascii=False)\n",
    "\n",
    "print(f\"Structured output saved to: {json_output_path}\")\n"
   ]
  },
  {
   "cell_type": "code",
   "execution_count": null,
   "id": "c0106508",
   "metadata": {},
   "outputs": [],
   "source": []
  }
 ],
 "metadata": {
  "kernelspec": {
   "display_name": "Python 3 (ipykernel)",
   "language": "python",
   "name": "python3"
  },
  "language_info": {
   "codemirror_mode": {
    "name": "ipython",
    "version": 3
   },
   "file_extension": ".py",
   "mimetype": "text/x-python",
   "name": "python",
   "nbconvert_exporter": "python",
   "pygments_lexer": "ipython3",
   "version": "3.10.9"
  }
 },
 "nbformat": 4,
 "nbformat_minor": 5
}
